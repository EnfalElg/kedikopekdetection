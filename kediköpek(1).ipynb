{
  "nbformat": 4,
  "nbformat_minor": 0,
  "metadata": {
    "colab": {
      "provenance": []
    },
    "kernelspec": {
      "name": "python3",
      "display_name": "Python 3"
    },
    "language_info": {
      "name": "python"
    }
  },
  "cells": [
    {
      "cell_type": "code",
      "execution_count": null,
      "metadata": {
        "id": "WNBJ0Em7TnwC"
      },
      "outputs": [],
      "source": [
        "from google.colab import files\n",
        "files.upload()\n"
      ]
    },
    {
      "cell_type": "code",
      "source": [
        "!mkdir -p ~/.kaggle\n",
        "!cp kaggle.json ~/.kaggle/\n",
        "!chmod 600 ~/.kaggle/kaggle.json\n"
      ],
      "metadata": {
        "id": "qvXEZOtUTsm6"
      },
      "execution_count": null,
      "outputs": []
    },
    {
      "cell_type": "code",
      "source": [
        "!pip install -q kaggle\n",
        "!kaggle competitions download -c dogs-vs-cats\n"
      ],
      "metadata": {
        "id": "4PaFk2K_Tsxt"
      },
      "execution_count": null,
      "outputs": []
    },
    {
      "cell_type": "code",
      "source": [
        "!mkdir -p data/train\n"
      ],
      "metadata": {
        "id": "aLQFszsJTs6k"
      },
      "execution_count": null,
      "outputs": []
    },
    {
      "cell_type": "code",
      "source": [
        "!unzip -q dogs-vs-cats.zip -d data\n",
        "!unzip -q data/train.zip -d data/train\n"
      ],
      "metadata": {
        "id": "1hvxwHCLTs9L"
      },
      "execution_count": null,
      "outputs": []
    },
    {
      "cell_type": "code",
      "source": [
        "import os, shutil\n",
        "\n",
        "base_dir = 'data'\n",
        "train_dir = os.path.join(base_dir, 'train')\n",
        "cat_dir = os.path.join(base_dir, 'cats')\n",
        "dog_dir = os.path.join(base_dir, 'dogs')\n",
        "\n",
        "os.makedirs(cat_dir, exist_ok=True)\n",
        "os.makedirs(dog_dir, exist_ok=True)\n",
        "\n",
        "for fname in os.listdir(train_dir):\n",
        "    if fname.startswith('cat'):\n",
        "        shutil.move(os.path.join(train_dir, fname), os.path.join(cat_dir, fname))\n",
        "    elif fname.startswith('dog'):\n",
        "        shutil.move(os.path.join(train_dir, fname), os.path.join(dog_dir, fname))\n",
        "\n"
      ],
      "metadata": {
        "id": "JdHiW4ZaTs_q"
      },
      "execution_count": null,
      "outputs": []
    },
    {
      "cell_type": "code",
      "source": [
        "from sklearn.model_selection import train_test_split\n",
        "\n",
        "def split_data(source_dir, train_dir, val_dir, split_size=0.8):\n",
        "    files = os.listdir(source_dir)\n",
        "    train_files, val_files = train_test_split(files, train_size=split_size, random_state=42)\n",
        "\n",
        "    os.makedirs(train_dir, exist_ok=True)\n",
        "    os.makedirs(val_dir, exist_ok=True)\n",
        "\n",
        "    for file in train_files:\n",
        "        shutil.copy(os.path.join(source_dir, file), os.path.join(train_dir, file))\n",
        "    for file in val_files:\n",
        "        shutil.copy(os.path.join(source_dir, file), os.path.join(val_dir, file))\n",
        "\n",
        "split_data(cat_dir, 'data/train/cats', 'data/val/cats')\n",
        "split_data(dog_dir, 'data/train/dogs', 'data/val/dogs')\n",
        "\n"
      ],
      "metadata": {
        "id": "vZssfl2vTtCN"
      },
      "execution_count": null,
      "outputs": []
    },
    {
      "cell_type": "code",
      "source": [
        "import os, shutil\n",
        "\n",
        "wrong_dir = 'data/train/train'\n",
        "correct_dir = 'data/train'\n",
        "\n",
        "for fname in os.listdir(wrong_dir):\n",
        "    shutil.move(os.path.join(wrong_dir, fname), os.path.join(correct_dir, fname))\n",
        "\n",
        "os.rmdir(wrong_dir)\n"
      ],
      "metadata": {
        "id": "CMFRWKpCTtEf"
      },
      "execution_count": null,
      "outputs": []
    },
    {
      "cell_type": "code",
      "source": [
        "from tensorflow.keras.preprocessing.image import ImageDataGenerator\n",
        "\n",
        "train_datagen = ImageDataGenerator(rescale=1./255)\n",
        "val_datagen = ImageDataGenerator(rescale=1./255)\n",
        "\n",
        "train_data = train_datagen.flow_from_directory(\n",
        "    'data/train',\n",
        "    target_size=(128, 128),\n",
        "    batch_size=32,\n",
        "    class_mode='binary'\n",
        ")\n",
        "\n",
        "val_data = val_datagen.flow_from_directory(\n",
        "    'data/val',\n",
        "    target_size=(128, 128),\n",
        "    batch_size=32,\n",
        "    class_mode='binary'\n",
        ")\n"
      ],
      "metadata": {
        "id": "dDe35zZ1TtGy"
      },
      "execution_count": null,
      "outputs": []
    },
    {
      "cell_type": "code",
      "source": [
        "model.save(\"cats_vs_dogs_model.h5\")\n"
      ],
      "metadata": {
        "id": "aj9U8xu5752_"
      },
      "execution_count": null,
      "outputs": []
    },
    {
      "cell_type": "code",
      "source": [
        "from google.colab import drive\n",
        "drive.mount('/content/drive')\n"
      ],
      "metadata": {
        "id": "mfBPVMQ08aEz"
      },
      "execution_count": null,
      "outputs": []
    },
    {
      "cell_type": "code",
      "source": [
        "!cp cats_vs_dogs_model.h5 /content/drive/MyDrive/\n"
      ],
      "metadata": {
        "id": "2wLyKwaS8152"
      },
      "execution_count": null,
      "outputs": []
    },
    {
      "cell_type": "code",
      "source": [
        "from tensorflow.keras.models import Sequential\n",
        "from tensorflow.keras.layers import Conv2D, MaxPooling2D, Flatten, Dense\n",
        "\n",
        "model = Sequential([\n",
        "    Conv2D(32, (3,3), activation='relu', input_shape=(128,128,3)),\n",
        "    MaxPooling2D(2,2),\n",
        "\n",
        "    Conv2D(64, (3,3), activation='relu'),\n",
        "    MaxPooling2D(2,2),\n",
        "\n",
        "    Flatten(),\n",
        "    Dense(128, activation='relu'),\n",
        "    Dense(1, activation='sigmoid')  # binary classification\n",
        "])\n",
        "\n",
        "model.compile(optimizer='adam', loss='binary_crossentropy', metrics=['accuracy'])\n"
      ],
      "metadata": {
        "id": "QKdyiiVjTtJy"
      },
      "execution_count": null,
      "outputs": []
    },
    {
      "cell_type": "code",
      "source": [
        "history = model.fit(\n",
        "    train_data,\n",
        "    validation_data=val_data,\n",
        "    epochs=5\n",
        ")\n"
      ],
      "metadata": {
        "id": "xqSKDAdTTtMa"
      },
      "execution_count": null,
      "outputs": []
    },
    {
      "cell_type": "code",
      "source": [
        "import matplotlib.pyplot as plt\n",
        "import numpy as np\n",
        "\n",
        "sample_batch = next(iter(val_data))\n",
        "images, labels = sample_batch\n",
        "\n",
        "predictions = model.predict(images)\n",
        "predicted_classes = (predictions > 0.5).astype(\"int32\")\n",
        "\n",
        "plt.figure(figsize=(12, 8))\n",
        "for i in range(10):\n",
        "    plt.subplot(2, 5, i + 1)\n",
        "    plt.imshow(images[i])\n",
        "    plt.title(f\"Gerçek: {'Dog' if labels[i] else 'Cat'}\\nTahmin: {'Dog' if predicted_classes[i] else 'Cat'}\")\n",
        "    plt.axis('off')\n",
        "\n",
        "plt.tight_layout()\n",
        "plt.show()\n"
      ],
      "metadata": {
        "id": "9RnvOHWWTtPQ"
      },
      "execution_count": null,
      "outputs": []
    }
  ]
}